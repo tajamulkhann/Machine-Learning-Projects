{
 "cells": [
  {
   "cell_type": "markdown",
   "metadata": {},
   "source": [
    "# 🛒 Market Basket Analysis using Association Rule Learning\n",
    "This notebook demonstrates how to perform **Market Basket Analysis** with a **made-up dataset** using Apriori and Association Rules."
   ]
  },
  {
   "cell_type": "code",
   "execution_count": 28,
   "metadata": {},
   "outputs": [],
   "source": [
    "# Install dependencies if not already installed\n",
    "# !pip install mlxtend matplotlib"
   ]
  },
  {
   "cell_type": "code",
   "execution_count": 29,
   "metadata": {},
   "outputs": [],
   "source": [
    "import pandas as pd\n",
    "from mlxtend.frequent_patterns import apriori, association_rules\n",
    "import matplotlib.pyplot as plt\n",
    "import networkx as nx"
   ]
  },
  {
   "cell_type": "markdown",
   "metadata": {},
   "source": [
    "## Step 1: Create a made-up dataset"
   ]
  },
  {
   "cell_type": "code",
   "execution_count": 30,
   "metadata": {},
   "outputs": [],
   "source": [
    "transactions = [\n",
    "    [\"milk\", \"bread\", \"eggs\"],\n",
    "    [\"bread\", \"butter\"],\n",
    "    [\"milk\", \"bread\", \"butter\"],\n",
    "    [\"beer\", \"chips\"],\n",
    "    [\"milk\", \"bread\", \"butter\", \"eggs\"],\n",
    "    [\"bread\", \"butter\", \"jam\"],\n",
    "    [\"beer\", \"chips\", \"nuts\"],\n",
    "    [\"milk\", \"bread\"],\n",
    "    [\"bread\", \"butter\", \"beer\"],\n",
    "    [\"milk\", \"bread\", \"butter\", \"chips\"],\n",
    "]"
   ]
  },
  {
   "cell_type": "markdown",
   "metadata": {},
   "source": [
    "## Step 2: Convert transactions into one-hot encoded DataFrame"
   ]
  },
  {
   "cell_type": "code",
   "execution_count": 31,
   "metadata": {},
   "outputs": [
    {
     "name": "stdout",
     "output_type": "stream",
     "text": [
      "One-hot Encoded Dataset:\n"
     ]
    },
    {
     "data": {
      "text/html": [
       "<div>\n",
       "<style scoped>\n",
       "    .dataframe tbody tr th:only-of-type {\n",
       "        vertical-align: middle;\n",
       "    }\n",
       "\n",
       "    .dataframe tbody tr th {\n",
       "        vertical-align: top;\n",
       "    }\n",
       "\n",
       "    .dataframe thead th {\n",
       "        text-align: right;\n",
       "    }\n",
       "</style>\n",
       "<table border=\"1\" class=\"dataframe\">\n",
       "  <thead>\n",
       "    <tr style=\"text-align: right;\">\n",
       "      <th></th>\n",
       "      <th>beer</th>\n",
       "      <th>bread</th>\n",
       "      <th>butter</th>\n",
       "      <th>chips</th>\n",
       "      <th>eggs</th>\n",
       "      <th>jam</th>\n",
       "      <th>milk</th>\n",
       "      <th>nuts</th>\n",
       "    </tr>\n",
       "  </thead>\n",
       "  <tbody>\n",
       "    <tr>\n",
       "      <th>0</th>\n",
       "      <td>False</td>\n",
       "      <td>True</td>\n",
       "      <td>False</td>\n",
       "      <td>False</td>\n",
       "      <td>True</td>\n",
       "      <td>False</td>\n",
       "      <td>True</td>\n",
       "      <td>False</td>\n",
       "    </tr>\n",
       "    <tr>\n",
       "      <th>1</th>\n",
       "      <td>False</td>\n",
       "      <td>True</td>\n",
       "      <td>True</td>\n",
       "      <td>False</td>\n",
       "      <td>False</td>\n",
       "      <td>False</td>\n",
       "      <td>False</td>\n",
       "      <td>False</td>\n",
       "    </tr>\n",
       "    <tr>\n",
       "      <th>2</th>\n",
       "      <td>False</td>\n",
       "      <td>True</td>\n",
       "      <td>True</td>\n",
       "      <td>False</td>\n",
       "      <td>False</td>\n",
       "      <td>False</td>\n",
       "      <td>True</td>\n",
       "      <td>False</td>\n",
       "    </tr>\n",
       "    <tr>\n",
       "      <th>3</th>\n",
       "      <td>True</td>\n",
       "      <td>False</td>\n",
       "      <td>False</td>\n",
       "      <td>True</td>\n",
       "      <td>False</td>\n",
       "      <td>False</td>\n",
       "      <td>False</td>\n",
       "      <td>False</td>\n",
       "    </tr>\n",
       "    <tr>\n",
       "      <th>4</th>\n",
       "      <td>False</td>\n",
       "      <td>True</td>\n",
       "      <td>True</td>\n",
       "      <td>False</td>\n",
       "      <td>True</td>\n",
       "      <td>False</td>\n",
       "      <td>True</td>\n",
       "      <td>False</td>\n",
       "    </tr>\n",
       "  </tbody>\n",
       "</table>\n",
       "</div>"
      ],
      "text/plain": [
       "    beer  bread  butter  chips   eggs    jam   milk   nuts\n",
       "0  False   True   False  False   True  False   True  False\n",
       "1  False   True    True  False  False  False  False  False\n",
       "2  False   True    True  False  False  False   True  False\n",
       "3   True  False   False   True  False  False  False  False\n",
       "4  False   True    True  False   True  False   True  False"
      ]
     },
     "execution_count": 31,
     "metadata": {},
     "output_type": "execute_result"
    }
   ],
   "source": [
    "\n",
    "# Get all unique items\n",
    "all_items = sorted(set(item for transaction in transactions for item in transaction))\n",
    "\n",
    "# One-hot encode each transaction\n",
    "df = pd.DataFrame([{item: (item in transaction) for item in all_items} for transaction in transactions])\n",
    "\n",
    "# Display result\n",
    "print(\"One-hot Encoded Dataset:\")\n",
    "df.head()"
   ]
  },
  {
   "cell_type": "markdown",
   "metadata": {},
   "source": [
    "## Step 3: Generate Frequent Item sets using Apriori\n",
    "\n",
    "Apriori is an algorithm used in data mining to find frequent itemsets and association rules in transactional data.\n",
    "\n",
    "- Support is the fraction of transactions in which the itemset appears.\n",
    "\n",
    "    - (bread) appears in 75% of all transactions → support = 0.75\n",
    "\n",
    "    - (bread, butter) appears together in 50% of all transactions → support = 0.5\n",
    "\n",
    "- Confidence: Likelihood of B given A.\n",
    "\n",
    "- Lift: Measures how much more likely A → B occurs than by chance.\n",
    "\n",
    "Used for market basket analysis and recommendations."
   ]
  },
  {
   "cell_type": "code",
   "execution_count": 32,
   "metadata": {},
   "outputs": [
    {
     "name": "stdout",
     "output_type": "stream",
     "text": [
      "\n",
      "Frequent Itemsets:\n"
     ]
    },
    {
     "data": {
      "text/html": [
       "<div>\n",
       "<style scoped>\n",
       "    .dataframe tbody tr th:only-of-type {\n",
       "        vertical-align: middle;\n",
       "    }\n",
       "\n",
       "    .dataframe tbody tr th {\n",
       "        vertical-align: top;\n",
       "    }\n",
       "\n",
       "    .dataframe thead th {\n",
       "        text-align: right;\n",
       "    }\n",
       "</style>\n",
       "<table border=\"1\" class=\"dataframe\">\n",
       "  <thead>\n",
       "    <tr style=\"text-align: right;\">\n",
       "      <th></th>\n",
       "      <th>support</th>\n",
       "      <th>itemsets</th>\n",
       "    </tr>\n",
       "  </thead>\n",
       "  <tbody>\n",
       "    <tr>\n",
       "      <th>0</th>\n",
       "      <td>0.3</td>\n",
       "      <td>(beer)</td>\n",
       "    </tr>\n",
       "    <tr>\n",
       "      <th>1</th>\n",
       "      <td>0.8</td>\n",
       "      <td>(bread)</td>\n",
       "    </tr>\n",
       "    <tr>\n",
       "      <th>2</th>\n",
       "      <td>0.6</td>\n",
       "      <td>(butter)</td>\n",
       "    </tr>\n",
       "    <tr>\n",
       "      <th>3</th>\n",
       "      <td>0.3</td>\n",
       "      <td>(chips)</td>\n",
       "    </tr>\n",
       "    <tr>\n",
       "      <th>4</th>\n",
       "      <td>0.5</td>\n",
       "      <td>(milk)</td>\n",
       "    </tr>\n",
       "    <tr>\n",
       "      <th>5</th>\n",
       "      <td>0.6</td>\n",
       "      <td>(bread, butter)</td>\n",
       "    </tr>\n",
       "    <tr>\n",
       "      <th>6</th>\n",
       "      <td>0.5</td>\n",
       "      <td>(milk, bread)</td>\n",
       "    </tr>\n",
       "    <tr>\n",
       "      <th>7</th>\n",
       "      <td>0.3</td>\n",
       "      <td>(milk, butter)</td>\n",
       "    </tr>\n",
       "    <tr>\n",
       "      <th>8</th>\n",
       "      <td>0.3</td>\n",
       "      <td>(milk, bread, butter)</td>\n",
       "    </tr>\n",
       "  </tbody>\n",
       "</table>\n",
       "</div>"
      ],
      "text/plain": [
       "   support               itemsets\n",
       "0      0.3                 (beer)\n",
       "1      0.8                (bread)\n",
       "2      0.6               (butter)\n",
       "3      0.3                (chips)\n",
       "4      0.5                 (milk)\n",
       "5      0.6        (bread, butter)\n",
       "6      0.5          (milk, bread)\n",
       "7      0.3         (milk, butter)\n",
       "8      0.3  (milk, bread, butter)"
      ]
     },
     "execution_count": 32,
     "metadata": {},
     "output_type": "execute_result"
    }
   ],
   "source": [
    "# - min_support=0.3 means only keep itemsets appearing in at least 30% of transactions\n",
    "frequent_itemsets = apriori(df, min_support=0.3, use_colnames=True)\n",
    "print(\"\\nFrequent Itemsets:\")\n",
    "frequent_itemsets"
   ]
  },
  {
   "cell_type": "markdown",
   "metadata": {},
   "source": [
    "## Step 4: Generate Association Rules"
   ]
  },
  {
   "cell_type": "markdown",
   "id": "722a48aa",
   "metadata": {},
   "source": [
    "| Column        | Meaning & Example                                                                 |\n",
    "|---------------|----------------------------------------------------------------------------------|\n",
    "| Antecedents   | Items on the **left side** of the rule (if these items are bought). Example: {bread} |\n",
    "| Consequents   | Items on the **right side** of the rule (then these items are likely bought). Example: {butter} |\n",
    "| Support       | Fraction of transactions containing **both antecedent & consequent**. Example: 0.5 means 50% of all transactions have both bread & butter |\n",
    "| Confidence    | Likelihood that consequent is bought **given antecedent**. Example: 0.67 means 67% of transactions with bread also have butter |\n",
    "| Lift          | How much more likely consequent occurs **with antecedent than by chance**. Example: 1.2 means bread increases chance of buying butter by 20% compared to random |\n",
    "\n",
    "\n",
    "#### Range Limit\n",
    "\n",
    "| Metric         | Range                  | Meaning                                                                               |\n",
    "| -------------- | ---------------------- | ------------------------------------------------------------------------------------- |\n",
    "| **Support**    | 0 to 1                 | Fraction of transactions containing the itemset. 1 = in all transactions, 0 = in none |\n",
    "| **Confidence** | 0 to 1                 | Probability that consequent occurs given antecedent. 1 = always, 0 = never            |\n",
    "| **Lift**       | 0 to ∞ (theoretically) | >1 → positive association, =1 → no association, <1 → negative association             |\n"
   ]
  },
  {
   "cell_type": "code",
   "execution_count": 33,
   "id": "85e1bb67",
   "metadata": {},
   "outputs": [
    {
     "name": "stdout",
     "output_type": "stream",
     "text": [
      "\n",
      "Association Rules:\n"
     ]
    },
    {
     "data": {
      "text/html": [
       "<div>\n",
       "<style scoped>\n",
       "    .dataframe tbody tr th:only-of-type {\n",
       "        vertical-align: middle;\n",
       "    }\n",
       "\n",
       "    .dataframe tbody tr th {\n",
       "        vertical-align: top;\n",
       "    }\n",
       "\n",
       "    .dataframe thead th {\n",
       "        text-align: right;\n",
       "    }\n",
       "</style>\n",
       "<table border=\"1\" class=\"dataframe\">\n",
       "  <thead>\n",
       "    <tr style=\"text-align: right;\">\n",
       "      <th></th>\n",
       "      <th>antecedents</th>\n",
       "      <th>consequents</th>\n",
       "      <th>support</th>\n",
       "      <th>confidence</th>\n",
       "      <th>lift</th>\n",
       "    </tr>\n",
       "  </thead>\n",
       "  <tbody>\n",
       "    <tr>\n",
       "      <th>1</th>\n",
       "      <td>(butter)</td>\n",
       "      <td>(bread)</td>\n",
       "      <td>0.6</td>\n",
       "      <td>1.000</td>\n",
       "      <td>1.25</td>\n",
       "    </tr>\n",
       "    <tr>\n",
       "      <th>2</th>\n",
       "      <td>(milk)</td>\n",
       "      <td>(bread)</td>\n",
       "      <td>0.5</td>\n",
       "      <td>1.000</td>\n",
       "      <td>1.25</td>\n",
       "    </tr>\n",
       "    <tr>\n",
       "      <th>3</th>\n",
       "      <td>(bread)</td>\n",
       "      <td>(milk)</td>\n",
       "      <td>0.5</td>\n",
       "      <td>0.625</td>\n",
       "      <td>1.25</td>\n",
       "    </tr>\n",
       "    <tr>\n",
       "      <th>6</th>\n",
       "      <td>(milk, butter)</td>\n",
       "      <td>(bread)</td>\n",
       "      <td>0.3</td>\n",
       "      <td>1.000</td>\n",
       "      <td>1.25</td>\n",
       "    </tr>\n",
       "    <tr>\n",
       "      <th>0</th>\n",
       "      <td>(bread)</td>\n",
       "      <td>(butter)</td>\n",
       "      <td>0.6</td>\n",
       "      <td>0.750</td>\n",
       "      <td>1.25</td>\n",
       "    </tr>\n",
       "    <tr>\n",
       "      <th>4</th>\n",
       "      <td>(milk)</td>\n",
       "      <td>(butter)</td>\n",
       "      <td>0.3</td>\n",
       "      <td>0.600</td>\n",
       "      <td>1.00</td>\n",
       "    </tr>\n",
       "    <tr>\n",
       "      <th>5</th>\n",
       "      <td>(milk, bread)</td>\n",
       "      <td>(butter)</td>\n",
       "      <td>0.3</td>\n",
       "      <td>0.600</td>\n",
       "      <td>1.00</td>\n",
       "    </tr>\n",
       "    <tr>\n",
       "      <th>7</th>\n",
       "      <td>(milk)</td>\n",
       "      <td>(bread, butter)</td>\n",
       "      <td>0.3</td>\n",
       "      <td>0.600</td>\n",
       "      <td>1.00</td>\n",
       "    </tr>\n",
       "  </tbody>\n",
       "</table>\n",
       "</div>"
      ],
      "text/plain": [
       "      antecedents      consequents  support  confidence  lift\n",
       "1        (butter)          (bread)      0.6       1.000  1.25\n",
       "2          (milk)          (bread)      0.5       1.000  1.25\n",
       "3         (bread)           (milk)      0.5       0.625  1.25\n",
       "6  (milk, butter)          (bread)      0.3       1.000  1.25\n",
       "0         (bread)         (butter)      0.6       0.750  1.25\n",
       "4          (milk)         (butter)      0.3       0.600  1.00\n",
       "5   (milk, bread)         (butter)      0.3       0.600  1.00\n",
       "7          (milk)  (bread, butter)      0.3       0.600  1.00"
      ]
     },
     "execution_count": 33,
     "metadata": {},
     "output_type": "execute_result"
    }
   ],
   "source": [
    "rules = association_rules(frequent_itemsets, metric=\"confidence\", min_threshold=0.6)\n",
    "rules = rules.sort_values(by=\"lift\", ascending=False)\n",
    "print(\"\\nAssociation Rules:\")\n",
    "rules[[\"antecedents\", \"consequents\", \"support\", \"confidence\", \"lift\"]]"
   ]
  },
  {
   "cell_type": "markdown",
   "id": "464aff2b",
   "metadata": {},
   "source": [
    "#### Insights \n",
    "\n",
    "Milk ↔ Eggs: Strong link, confidence 1.0, lift 2 → buying one doubles chance of buying the other.\n",
    "\n",
    "Bread ↔ Butter: Moderate link, confidence 0.67–1.0, lift 1.33 → buying one slightly increases chance of buying the other.\n",
    "\n",
    "Takeaway: Bundle milk & eggs for promotions; suggest bread & butter together."
   ]
  },
  {
   "cell_type": "markdown",
   "metadata": {},
   "source": [
    "## Step 5: Visualize Association Rules as a Network Graph"
   ]
  },
  {
   "cell_type": "code",
   "execution_count": 34,
   "metadata": {},
   "outputs": [
    {
     "data": {
      "image/png": "[encoded data removed]",
      "text/plain": [
       "<Figure size 800x600 with 1 Axes>"
      ]
     },
     "metadata": {},
     "output_type": "display_data"
    }
   ],
   "source": [
    "G = nx.DiGraph()\n",
    "\n",
    "for _, row in rules.iterrows():\n",
    "    for antecedent in row[\"antecedents\"]:\n",
    "        for consequent in row[\"consequents\"]:\n",
    "            G.add_edge(antecedent, consequent, weight=row[\"confidence\"])\n",
    "\n",
    "plt.figure(figsize=(8, 6))\n",
    "pos = nx.spring_layout(G, k=1.5, seed=42)\n",
    "nx.draw(G, pos, with_labels=True, node_size=2500, node_color=\"lightblue\", font_size=12, font_weight=\"bold\", arrows=True)\n",
    "labels = nx.get_edge_attributes(G, \"weight\")\n",
    "nx.draw_networkx_edge_labels(G, pos, edge_labels={k: f\"{v:.2f}\" for k, v in labels.items()})\n",
    "plt.title(\"Association Rules Network Graph\", fontsize=14)\n",
    "plt.show()"
   ]
  },
  {
   "cell_type": "markdown",
   "id": "8599f059",
   "metadata": {},
   "source": [
    "## Conclusion\n",
    "\n",
    "This network graph shows strong association rules between milk, bread, and butter, each with a confidence value of 0.60. All three items are mutually linked, suggesting that these products are frequently purchased together in market basket analysis. Milk, bread, and butter form a highly connected trio indicating a strong co-occurrence pattern that retailers should target for combined promotions or cross-selling opportunities."
   ]
  }
 ],
 "metadata": {
  "kernelspec": {
   "display_name": "base",
   "language": "python",
   "name": "python3"
  },
  "language_info": {
   "codemirror_mode": {
    "name": "ipython",
    "version": 3
   },
   "file_extension": ".py",
   "mimetype": "text/x-python",
   "name": "python",
   "nbconvert_exporter": "python",
   "pygments_lexer": "ipython3",
   "version": "3.13.5"
  }
 },
 "nbformat": 4,
 "nbformat_minor": 5
}
