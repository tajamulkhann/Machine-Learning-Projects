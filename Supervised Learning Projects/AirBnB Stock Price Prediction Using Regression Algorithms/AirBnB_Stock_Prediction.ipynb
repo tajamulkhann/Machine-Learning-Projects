{
  "cells": [
    {
      "cell_type": "markdown",
      "metadata": {},
      "source": [
        "## Airbnb Stock Price Prediction\n",
        "\n",
        "The goal of this project is to predict Airbnb's stock closing prices using historical stock market data. By leveraging machine learning models, we aim to develop an effective forecasting system to assist investors and analysts in decision-making."
      ]
    },
    {
      "cell_type": "markdown",
      "metadata": {},
      "source": [
        "### 1. Data Loading and Preprocessing"
      ]
    },
    {
      "cell_type": "markdown",
      "metadata": {},
      "source": [
        "#### Import Required Libraries"
      ]
    },
    {
      "cell_type": "code",
      "execution_count": null,
      "metadata": {
        "id": "qkT97VtcIaLu"
      },
      "outputs": [],
      "source": [
        "import pandas as pd\n",
        "import seaborn as sns\n",
        "import numpy as np\n",
        "import matplotlib.pyplot as plt\n",
        "from sklearn.model_selection import train_test_split\n",
        "from sklearn.tree import DecisionTreeRegressor\n",
        "from sklearn.ensemble import RandomForestRegressor\n",
        "from sklearn import metrics\n",
        "import math\n",
        "\n",
        "sns.set_theme(color_codes=True)"
      ]
    },
    {
      "cell_type": "markdown",
      "metadata": {},
      "source": [
        "#### Load Dataset"
      ]
    },
    {
      "cell_type": "code",
      "execution_count": null,
      "metadata": {},
      "outputs": [
        {
          "data": {
            "text/html": [
              "<div>\n",
              "<style scoped>\n",
              "    .dataframe tbody tr th:only-of-type {\n",
              "        vertical-align: middle;\n",
              "    }\n",
              "\n",
              "    .dataframe tbody tr th {\n",
              "        vertical-align: top;\n",
              "    }\n",
              "\n",
              "    .dataframe thead th {\n",
              "        text-align: right;\n",
              "    }\n",
              "</style>\n",
              "<table border=\"1\" class=\"dataframe\">\n",
              "  <thead>\n",
              "    <tr style=\"text-align: right;\">\n",
              "      <th></th>\n",
              "      <th>Date</th>\n",
              "      <th>Open</th>\n",
              "      <th>High</th>\n",
              "      <th>Low</th>\n",
              "      <th>Close</th>\n",
              "      <th>Adj Close</th>\n",
              "      <th>Volume</th>\n",
              "    </tr>\n",
              "  </thead>\n",
              "  <tbody>\n",
              "    <tr>\n",
              "      <th>0</th>\n",
              "      <td>2020-12-11</td>\n",
              "      <td>146.550003</td>\n",
              "      <td>151.500000</td>\n",
              "      <td>135.100006</td>\n",
              "      <td>139.250000</td>\n",
              "      <td>139.250000</td>\n",
              "      <td>26980800</td>\n",
              "    </tr>\n",
              "    <tr>\n",
              "      <th>1</th>\n",
              "      <td>2020-12-14</td>\n",
              "      <td>135.000000</td>\n",
              "      <td>135.300003</td>\n",
              "      <td>125.160004</td>\n",
              "      <td>130.000000</td>\n",
              "      <td>130.000000</td>\n",
              "      <td>16966100</td>\n",
              "    </tr>\n",
              "    <tr>\n",
              "      <th>2</th>\n",
              "      <td>2020-12-15</td>\n",
              "      <td>126.690002</td>\n",
              "      <td>127.599998</td>\n",
              "      <td>121.500000</td>\n",
              "      <td>124.800003</td>\n",
              "      <td>124.800003</td>\n",
              "      <td>10914400</td>\n",
              "    </tr>\n",
              "    <tr>\n",
              "      <th>3</th>\n",
              "      <td>2020-12-16</td>\n",
              "      <td>125.830002</td>\n",
              "      <td>142.000000</td>\n",
              "      <td>124.910004</td>\n",
              "      <td>137.990005</td>\n",
              "      <td>137.990005</td>\n",
              "      <td>20409600</td>\n",
              "    </tr>\n",
              "    <tr>\n",
              "      <th>4</th>\n",
              "      <td>2020-12-17</td>\n",
              "      <td>143.000000</td>\n",
              "      <td>152.449997</td>\n",
              "      <td>142.669998</td>\n",
              "      <td>147.050003</td>\n",
              "      <td>147.050003</td>\n",
              "      <td>15054700</td>\n",
              "    </tr>\n",
              "  </tbody>\n",
              "</table>\n",
              "</div>"
            ],
            "text/plain": [
              "         Date        Open        High         Low       Close   Adj Close  \\\n",
              "0  2020-12-11  146.550003  151.500000  135.100006  139.250000  139.250000   \n",
              "1  2020-12-14  135.000000  135.300003  125.160004  130.000000  130.000000   \n",
              "2  2020-12-15  126.690002  127.599998  121.500000  124.800003  124.800003   \n",
              "3  2020-12-16  125.830002  142.000000  124.910004  137.990005  137.990005   \n",
              "4  2020-12-17  143.000000  152.449997  142.669998  147.050003  147.050003   \n",
              "\n",
              "     Volume  \n",
              "0  26980800  \n",
              "1  16966100  \n",
              "2  10914400  \n",
              "3  20409600  \n",
              "4  15054700  "
            ]
          },
          "execution_count": 7,
          "metadata": {},
          "output_type": "execute_result"
        }
      ],
      "source": [
        "import pandas as pd\n",
        "\n",
        "url = \"https://raw.githubusercontent.com/tajamulkhann/Machine-Learning-Projects/main/Supervised%20Learning%20Projects/Airline%20Satisfaction%20Prediction%20using%20Classification%20Algorithms/ABNB.csv\"\n",
        "\n",
        "df = pd.read_csv(url)\n",
        "df.head()"
      ]
    },
    {
      "cell_type": "markdown",
      "metadata": {},
      "source": [
        "#### Convert Date Column to DateTime Format"
      ]
    },
    {
      "cell_type": "code",
      "execution_count": null,
      "metadata": {
        "colab": {
          "base_uri": "https://localhost:8080/",
          "height": 238
        },
        "id": "JQ5p1wbLKpPP",
        "outputId": "6b77860a-6dee-478e-e04d-601477c1e655"
      },
      "outputs": [
        {
          "data": {
            "text/html": [
              "\n",
              "  <div id=\"df-f4e5d43d-98df-4797-b630-1a595eae5dcf\">\n",
              "    <div class=\"colab-df-container\">\n",
              "      <div>\n",
              "<style scoped>\n",
              "    .dataframe tbody tr th:only-of-type {\n",
              "        vertical-align: middle;\n",
              "    }\n",
              "\n",
              "    .dataframe tbody tr th {\n",
              "        vertical-align: top;\n",
              "    }\n",
              "\n",
              "    .dataframe thead th {\n",
              "        text-align: right;\n",
              "    }\n",
              "</style>\n",
              "<table border=\"1\" class=\"dataframe\">\n",
              "  <thead>\n",
              "    <tr style=\"text-align: right;\">\n",
              "      <th></th>\n",
              "      <th>Open</th>\n",
              "      <th>High</th>\n",
              "      <th>Low</th>\n",
              "      <th>Close</th>\n",
              "      <th>Adj Close</th>\n",
              "      <th>Volume</th>\n",
              "    </tr>\n",
              "    <tr>\n",
              "      <th>Date</th>\n",
              "      <th></th>\n",
              "      <th></th>\n",
              "      <th></th>\n",
              "      <th></th>\n",
              "      <th></th>\n",
              "      <th></th>\n",
              "    </tr>\n",
              "  </thead>\n",
              "  <tbody>\n",
              "    <tr>\n",
              "      <th>2020-12-11</th>\n",
              "      <td>146.550003</td>\n",
              "      <td>151.500000</td>\n",
              "      <td>135.100006</td>\n",
              "      <td>139.250000</td>\n",
              "      <td>139.250000</td>\n",
              "      <td>26980800</td>\n",
              "    </tr>\n",
              "    <tr>\n",
              "      <th>2020-12-14</th>\n",
              "      <td>135.000000</td>\n",
              "      <td>135.300003</td>\n",
              "      <td>125.160004</td>\n",
              "      <td>130.000000</td>\n",
              "      <td>130.000000</td>\n",
              "      <td>16966100</td>\n",
              "    </tr>\n",
              "    <tr>\n",
              "      <th>2020-12-15</th>\n",
              "      <td>126.690002</td>\n",
              "      <td>127.599998</td>\n",
              "      <td>121.500000</td>\n",
              "      <td>124.800003</td>\n",
              "      <td>124.800003</td>\n",
              "      <td>10914400</td>\n",
              "    </tr>\n",
              "    <tr>\n",
              "      <th>2020-12-16</th>\n",
              "      <td>125.830002</td>\n",
              "      <td>142.000000</td>\n",
              "      <td>124.910004</td>\n",
              "      <td>137.990005</td>\n",
              "      <td>137.990005</td>\n",
              "      <td>20409600</td>\n",
              "    </tr>\n",
              "    <tr>\n",
              "      <th>2020-12-17</th>\n",
              "      <td>143.000000</td>\n",
              "      <td>152.449997</td>\n",
              "      <td>142.669998</td>\n",
              "      <td>147.050003</td>\n",
              "      <td>147.050003</td>\n",
              "      <td>15054700</td>\n",
              "    </tr>\n",
              "  </tbody>\n",
              "</table>\n",
              "</div>\n",
              "      <button class=\"colab-df-convert\" onclick=\"convertToInteractive('df-f4e5d43d-98df-4797-b630-1a595eae5dcf')\"\n",
              "              title=\"Convert this dataframe to an interactive table.\"\n",
              "              style=\"display:none;\">\n",
              "        \n",
              "  <svg xmlns=\"http://www.w3.org/2000/svg\" height=\"24px\"viewBox=\"0 0 24 24\"\n",
              "       width=\"24px\">\n",
              "    <path d=\"M0 0h24v24H0V0z\" fill=\"none\"/>\n",
              "    <path d=\"M18.56 5.44l.94 2.06.94-2.06 2.06-.94-2.06-.94-.94-2.06-.94 2.06-2.06.94zm-11 1L8.5 8.5l.94-2.06 2.06-.94-2.06-.94L8.5 2.5l-.94 2.06-2.06.94zm10 10l.94 2.06.94-2.06 2.06-.94-2.06-.94-.94-2.06-.94 2.06-2.06.94z\"/><path d=\"M17.41 7.96l-1.37-1.37c-.4-.4-.92-.59-1.43-.59-.52 0-1.04.2-1.43.59L10.3 9.45l-7.72 7.72c-.78.78-.78 2.05 0 2.83L4 21.41c.39.39.9.59 1.41.59.51 0 1.02-.2 1.41-.59l7.78-7.78 2.81-2.81c.8-.78.8-2.07 0-2.86zM5.41 20L4 18.59l7.72-7.72 1.47 1.35L5.41 20z\"/>\n",
              "  </svg>\n",
              "      </button>\n",
              "      \n",
              "  <style>\n",
              "    .colab-df-container {\n",
              "      display:flex;\n",
              "      flex-wrap:wrap;\n",
              "      gap: 12px;\n",
              "    }\n",
              "\n",
              "    .colab-df-convert {\n",
              "      background-color: #E8F0FE;\n",
              "      border: none;\n",
              "      border-radius: 50%;\n",
              "      cursor: pointer;\n",
              "      display: none;\n",
              "      fill: #1967D2;\n",
              "      height: 32px;\n",
              "      padding: 0 0 0 0;\n",
              "      width: 32px;\n",
              "    }\n",
              "\n",
              "    .colab-df-convert:hover {\n",
              "      background-color: #E2EBFA;\n",
              "      box-shadow: 0px 1px 2px rgba(60, 64, 67, 0.3), 0px 1px 3px 1px rgba(60, 64, 67, 0.15);\n",
              "      fill: #174EA6;\n",
              "    }\n",
              "\n",
              "    [theme=dark] .colab-df-convert {\n",
              "      background-color: #3B4455;\n",
              "      fill: #D2E3FC;\n",
              "    }\n",
              "\n",
              "    [theme=dark] .colab-df-convert:hover {\n",
              "      background-color: #434B5C;\n",
              "      box-shadow: 0px 1px 3px 1px rgba(0, 0, 0, 0.15);\n",
              "      filter: drop-shadow(0px 1px 2px rgba(0, 0, 0, 0.3));\n",
              "      fill: #FFFFFF;\n",
              "    }\n",
              "  </style>\n",
              "\n",
              "      <script>\n",
              "        const buttonEl =\n",
              "          document.querySelector('#df-f4e5d43d-98df-4797-b630-1a595eae5dcf button.colab-df-convert');\n",
              "        buttonEl.style.display =\n",
              "          google.colab.kernel.accessAllowed ? 'block' : 'none';\n",
              "\n",
              "        async function convertToInteractive(key) {\n",
              "          const element = document.querySelector('#df-f4e5d43d-98df-4797-b630-1a595eae5dcf');\n",
              "          const dataTable =\n",
              "            await google.colab.kernel.invokeFunction('convertToInteractive',\n",
              "                                                     [key], {});\n",
              "          if (!dataTable) return;\n",
              "\n",
              "          const docLinkHtml = 'Like what you see? Visit the ' +\n",
              "            '<a target=\"_blank\" href=https://colab.research.google.com/notebooks/data_table.ipynb>data table notebook</a>'\n",
              "            + ' to learn more about interactive tables.';\n",
              "          element.innerHTML = '';\n",
              "          dataTable['output_type'] = 'display_data';\n",
              "          await google.colab.output.renderOutput(dataTable, element);\n",
              "          const docLink = document.createElement('div');\n",
              "          docLink.innerHTML = docLinkHtml;\n",
              "          element.appendChild(docLink);\n",
              "        }\n",
              "      </script>\n",
              "    </div>\n",
              "  </div>\n",
              "  "
            ],
            "text/plain": [
              "                  Open        High         Low       Close   Adj Close  \\\n",
              "Date                                                                     \n",
              "2020-12-11  146.550003  151.500000  135.100006  139.250000  139.250000   \n",
              "2020-12-14  135.000000  135.300003  125.160004  130.000000  130.000000   \n",
              "2020-12-15  126.690002  127.599998  121.500000  124.800003  124.800003   \n",
              "2020-12-16  125.830002  142.000000  124.910004  137.990005  137.990005   \n",
              "2020-12-17  143.000000  152.449997  142.669998  147.050003  147.050003   \n",
              "\n",
              "              Volume  \n",
              "Date                  \n",
              "2020-12-11  26980800  \n",
              "2020-12-14  16966100  \n",
              "2020-12-15  10914400  \n",
              "2020-12-16  20409600  \n",
              "2020-12-17  15054700  "
            ]
          },
          "execution_count": 48,
          "metadata": {},
          "output_type": "execute_result"
        }
      ],
      "source": [
        "df['Date'] = pd.to_datetime(df['Date'])\n",
        "df.set_index('Date', inplace=True)\n",
        "df.head()"
      ]
    },
    {
      "cell_type": "markdown",
      "metadata": {},
      "source": [
        "### 2. Exploratory Data Analysis"
      ]
    },
    {
      "cell_type": "markdown",
      "metadata": {},
      "source": [
        "#### Visualizing Stock Price Trends"
      ]
    },
    {
      "cell_type": "code",
      "execution_count": null,
      "metadata": {},
      "outputs": [],
      "source": [
        "plt.figure(figsize=(12,6))\n",
        "plt.plot(df.index, df['Close'], label='Closing Price', color='b')\n",
        "plt.xlabel(\"Date\")\n",
        "plt.ylabel(\"Stock Price (USD)\")\n",
        "plt.title(\"Airbnb Stock Closing Price Over Time\")\n",
        "plt.legend()\n",
        "plt.xticks(rotation=90)\n",
        "plt.show()"
      ]
    },
    {
      "cell_type": "markdown",
      "metadata": {},
      "source": [
        "#### Feature Engineering: Extracting Date Features"
      ]
    },
    {
      "cell_type": "code",
      "execution_count": null,
      "metadata": {
        "colab": {
          "base_uri": "https://localhost:8080/",
          "height": 238
        },
        "id": "N1oB1PCCK8WS",
        "outputId": "702f793c-c2e5-47bd-b79a-608fb9291a8d"
      },
      "outputs": [
        {
          "data": {
            "text/html": [
              "\n",
              "  <div id=\"df-921a7b5d-29a1-4574-a501-eb22a8921bd7\">\n",
              "    <div class=\"colab-df-container\">\n",
              "      <div>\n",
              "<style scoped>\n",
              "    .dataframe tbody tr th:only-of-type {\n",
              "        vertical-align: middle;\n",
              "    }\n",
              "\n",
              "    .dataframe tbody tr th {\n",
              "        vertical-align: top;\n",
              "    }\n",
              "\n",
              "    .dataframe thead th {\n",
              "        text-align: right;\n",
              "    }\n",
              "</style>\n",
              "<table border=\"1\" class=\"dataframe\">\n",
              "  <thead>\n",
              "    <tr style=\"text-align: right;\">\n",
              "      <th></th>\n",
              "      <th>Open</th>\n",
              "      <th>High</th>\n",
              "      <th>Low</th>\n",
              "      <th>Close</th>\n",
              "      <th>Adj Close</th>\n",
              "      <th>Volume</th>\n",
              "      <th>Year</th>\n",
              "      <th>Month</th>\n",
              "      <th>dow</th>\n",
              "    </tr>\n",
              "    <tr>\n",
              "      <th>Date</th>\n",
              "      <th></th>\n",
              "      <th></th>\n",
              "      <th></th>\n",
              "      <th></th>\n",
              "      <th></th>\n",
              "      <th></th>\n",
              "      <th></th>\n",
              "      <th></th>\n",
              "      <th></th>\n",
              "    </tr>\n",
              "  </thead>\n",
              "  <tbody>\n",
              "    <tr>\n",
              "      <th>2020-12-11</th>\n",
              "      <td>146.550003</td>\n",
              "      <td>151.500000</td>\n",
              "      <td>135.100006</td>\n",
              "      <td>139.250000</td>\n",
              "      <td>139.250000</td>\n",
              "      <td>26980800</td>\n",
              "      <td>2020</td>\n",
              "      <td>12</td>\n",
              "      <td>4</td>\n",
              "    </tr>\n",
              "    <tr>\n",
              "      <th>2020-12-14</th>\n",
              "      <td>135.000000</td>\n",
              "      <td>135.300003</td>\n",
              "      <td>125.160004</td>\n",
              "      <td>130.000000</td>\n",
              "      <td>130.000000</td>\n",
              "      <td>16966100</td>\n",
              "      <td>2020</td>\n",
              "      <td>12</td>\n",
              "      <td>0</td>\n",
              "    </tr>\n",
              "    <tr>\n",
              "      <th>2020-12-15</th>\n",
              "      <td>126.690002</td>\n",
              "      <td>127.599998</td>\n",
              "      <td>121.500000</td>\n",
              "      <td>124.800003</td>\n",
              "      <td>124.800003</td>\n",
              "      <td>10914400</td>\n",
              "      <td>2020</td>\n",
              "      <td>12</td>\n",
              "      <td>1</td>\n",
              "    </tr>\n",
              "    <tr>\n",
              "      <th>2020-12-16</th>\n",
              "      <td>125.830002</td>\n",
              "      <td>142.000000</td>\n",
              "      <td>124.910004</td>\n",
              "      <td>137.990005</td>\n",
              "      <td>137.990005</td>\n",
              "      <td>20409600</td>\n",
              "      <td>2020</td>\n",
              "      <td>12</td>\n",
              "      <td>2</td>\n",
              "    </tr>\n",
              "    <tr>\n",
              "      <th>2020-12-17</th>\n",
              "      <td>143.000000</td>\n",
              "      <td>152.449997</td>\n",
              "      <td>142.669998</td>\n",
              "      <td>147.050003</td>\n",
              "      <td>147.050003</td>\n",
              "      <td>15054700</td>\n",
              "      <td>2020</td>\n",
              "      <td>12</td>\n",
              "      <td>3</td>\n",
              "    </tr>\n",
              "  </tbody>\n",
              "</table>\n",
              "</div>\n",
              "      <button class=\"colab-df-convert\" onclick=\"convertToInteractive('df-921a7b5d-29a1-4574-a501-eb22a8921bd7')\"\n",
              "              title=\"Convert this dataframe to an interactive table.\"\n",
              "              style=\"display:none;\">\n",
              "        \n",
              "  <svg xmlns=\"http://www.w3.org/2000/svg\" height=\"24px\"viewBox=\"0 0 24 24\"\n",
              "       width=\"24px\">\n",
              "    <path d=\"M0 0h24v24H0V0z\" fill=\"none\"/>\n",
              "    <path d=\"M18.56 5.44l.94 2.06.94-2.06 2.06-.94-2.06-.94-.94-2.06-.94 2.06-2.06.94zm-11 1L8.5 8.5l.94-2.06 2.06-.94-2.06-.94L8.5 2.5l-.94 2.06-2.06.94zm10 10l.94 2.06.94-2.06 2.06-.94-2.06-.94-.94-2.06-.94 2.06-2.06.94z\"/><path d=\"M17.41 7.96l-1.37-1.37c-.4-.4-.92-.59-1.43-.59-.52 0-1.04.2-1.43.59L10.3 9.45l-7.72 7.72c-.78.78-.78 2.05 0 2.83L4 21.41c.39.39.9.59 1.41.59.51 0 1.02-.2 1.41-.59l7.78-7.78 2.81-2.81c.8-.78.8-2.07 0-2.86zM5.41 20L4 18.59l7.72-7.72 1.47 1.35L5.41 20z\"/>\n",
              "  </svg>\n",
              "      </button>\n",
              "      \n",
              "  <style>\n",
              "    .colab-df-container {\n",
              "      display:flex;\n",
              "      flex-wrap:wrap;\n",
              "      gap: 12px;\n",
              "    }\n",
              "\n",
              "    .colab-df-convert {\n",
              "      background-color: #E8F0FE;\n",
              "      border: none;\n",
              "      border-radius: 50%;\n",
              "      cursor: pointer;\n",
              "      display: none;\n",
              "      fill: #1967D2;\n",
              "      height: 32px;\n",
              "      padding: 0 0 0 0;\n",
              "      width: 32px;\n",
              "    }\n",
              "\n",
              "    .colab-df-convert:hover {\n",
              "      background-color: #E2EBFA;\n",
              "      box-shadow: 0px 1px 2px rgba(60, 64, 67, 0.3), 0px 1px 3px 1px rgba(60, 64, 67, 0.15);\n",
              "      fill: #174EA6;\n",
              "    }\n",
              "\n",
              "    [theme=dark] .colab-df-convert {\n",
              "      background-color: #3B4455;\n",
              "      fill: #D2E3FC;\n",
              "    }\n",
              "\n",
              "    [theme=dark] .colab-df-convert:hover {\n",
              "      background-color: #434B5C;\n",
              "      box-shadow: 0px 1px 3px 1px rgba(0, 0, 0, 0.15);\n",
              "      filter: drop-shadow(0px 1px 2px rgba(0, 0, 0, 0.3));\n",
              "      fill: #FFFFFF;\n",
              "    }\n",
              "  </style>\n",
              "\n",
              "      <script>\n",
              "        const buttonEl =\n",
              "          document.querySelector('#df-921a7b5d-29a1-4574-a501-eb22a8921bd7 button.colab-df-convert');\n",
              "        buttonEl.style.display =\n",
              "          google.colab.kernel.accessAllowed ? 'block' : 'none';\n",
              "\n",
              "        async function convertToInteractive(key) {\n",
              "          const element = document.querySelector('#df-921a7b5d-29a1-4574-a501-eb22a8921bd7');\n",
              "          const dataTable =\n",
              "            await google.colab.kernel.invokeFunction('convertToInteractive',\n",
              "                                                     [key], {});\n",
              "          if (!dataTable) return;\n",
              "\n",
              "          const docLinkHtml = 'Like what you see? Visit the ' +\n",
              "            '<a target=\"_blank\" href=https://colab.research.google.com/notebooks/data_table.ipynb>data table notebook</a>'\n",
              "            + ' to learn more about interactive tables.';\n",
              "          element.innerHTML = '';\n",
              "          dataTable['output_type'] = 'display_data';\n",
              "          await google.colab.output.renderOutput(dataTable, element);\n",
              "          const docLink = document.createElement('div');\n",
              "          docLink.innerHTML = docLinkHtml;\n",
              "          element.appendChild(docLink);\n",
              "        }\n",
              "      </script>\n",
              "    </div>\n",
              "  </div>\n",
              "  "
            ],
            "text/plain": [
              "                  Open        High         Low       Close   Adj Close  \\\n",
              "Date                                                                     \n",
              "2020-12-11  146.550003  151.500000  135.100006  139.250000  139.250000   \n",
              "2020-12-14  135.000000  135.300003  125.160004  130.000000  130.000000   \n",
              "2020-12-15  126.690002  127.599998  121.500000  124.800003  124.800003   \n",
              "2020-12-16  125.830002  142.000000  124.910004  137.990005  137.990005   \n",
              "2020-12-17  143.000000  152.449997  142.669998  147.050003  147.050003   \n",
              "\n",
              "              Volume  Year  Month  dow  \n",
              "Date                                    \n",
              "2020-12-11  26980800  2020     12    4  \n",
              "2020-12-14  16966100  2020     12    0  \n",
              "2020-12-15  10914400  2020     12    1  \n",
              "2020-12-16  20409600  2020     12    2  \n",
              "2020-12-17  15054700  2020     12    3  "
            ]
          },
          "execution_count": 49,
          "metadata": {},
          "output_type": "execute_result"
        }
      ],
      "source": [
        "def create_features_datetime(df):\n",
        "    df['Year'] = df.index.year\n",
        "    df['Month'] = df.index.month\n",
        "    df['DayOfWeek'] = df.index.dayofweek\n",
        "    return df\n",
        "\n",
        "df = create_features_datetime(df)\n",
        "df.head()"
      ]
    },
    {
      "cell_type": "markdown",
      "metadata": {
        "id": "-Bo2PCw5Jvug"
      },
      "source": [
        "### 3. Machine Learning Model for Stock Price Prediction"
      ]
    },
    {
      "cell_type": "markdown",
      "metadata": {},
      "source": [
        "#### Splitting Data into Train and Test Sets"
      ]
    },
    {
      "cell_type": "code",
      "execution_count": null,
      "metadata": {},
      "outputs": [],
      "source": [
        "X = df.drop(columns=['Close'])\n",
        "y = df['Close']\n",
        "\n",
        "X_train, X_test, y_train, y_test = train_test_split(X, y, test_size=0.2, random_state=0)"
      ]
    },
    {
      "cell_type": "markdown",
      "metadata": {},
      "source": [
        "#### Model I: Decision Tree Regressor"
      ]
    },
    {
      "cell_type": "code",
      "execution_count": null,
      "metadata": {
        "id": "V7xfxpCjJ6RA"
      },
      "outputs": [],
      "source": [
        "dtree = DecisionTreeRegressor(random_state=0)\n",
        "dtree.fit(X_train, y_train)\n",
        "\n",
        "y_pred_dt = dtree.predict(X_test)\n",
        "\n",
        "mae_dt = metrics.mean_absolute_error(y_test, y_pred_dt)\n",
        "mse_dt = metrics.mean_squared_error(y_test, y_pred_dt)\n",
        "r2_dt = metrics.r2_score(y_test, y_pred_dt)\n",
        "rmse_dt = math.sqrt(mse_dt)\n",
        "\n",
        "print(f'Decision Tree - MAE: {mae_dt}, MSE: {mse_dt}, R2: {r2_dt}, RMSE: {rmse_dt}')"
      ]
    },
    {
      "cell_type": "markdown",
      "metadata": {},
      "source": [
        "#### Model II: Random Forest Regressor"
      ]
    },
    {
      "cell_type": "code",
      "execution_count": null,
      "metadata": {},
      "outputs": [],
      "source": [
        "rf = RandomForestRegressor(random_state=0)\n",
        "rf.fit(X_train, y_train)\n",
        "\n",
        "y_pred_rf = rf.predict(X_test)\n",
        "\n",
        "mae_rf = metrics.mean_absolute_error(y_test, y_pred_rf)\n",
        "mse_rf = metrics.mean_squared_error(y_test, y_pred_rf)\n",
        "r2_rf = metrics.r2_score(y_test, y_pred_rf)\n",
        "rmse_rf = math.sqrt(mse_rf)\n",
        "\n",
        "print(f'Random Forest - MAE: {mae_rf}, MSE: {mse_rf}, R2: {r2_rf}, RMSE: {rmse_rf}')"
      ]
    },
    {
      "cell_type": "markdown",
      "metadata": {},
      "source": [
        "### 4. Visualizing Predictions"
      ]
    },
    {
      "cell_type": "markdown",
      "metadata": {},
      "source": [
        "#### Adding Predictions to the Dataset"
      ]
    },
    {
      "cell_type": "code",
      "execution_count": null,
      "metadata": {},
      "outputs": [],
      "source": [
        "df['Predicted_Close'] = rf.predict(X)"
      ]
    },
    {
      "cell_type": "markdown",
      "metadata": {},
      "source": [
        "#### Plot Actual vs Predicted Stock Prices"
      ]
    },
    {
      "cell_type": "code",
      "execution_count": null,
      "metadata": {},
      "outputs": [],
      "source": [
        "plt.figure(figsize=(12,6))\n",
        "plt.plot(df.index, df['Close'], label='Actual Close Price', color='blue')\n",
        "plt.plot(df.index, df['Predicted_Close'], label='Predicted Close Price', color='red', linestyle='dashed')\n",
        "plt.xlabel(\"Date\")\n",
        "plt.ylabel(\"Stock Price (USD)\")\n",
        "plt.title(\"Airbnb Stock Price Prediction using Random Forest\")\n",
        "plt.legend()\n",
        "plt.xticks(rotation=90)\n",
        "plt.show()"
      ]
    },
    {
      "cell_type": "markdown",
      "metadata": {
        "id": "o99nxGJPLuGz"
      },
      "source": [
        "### 5. Conclusion\n",
        "\n",
        "- We successfully built a stock price prediction model using Decision Tree and Random Forest Regressors.\n",
        "- The Random Forest model performed better, achieving a lower MAE and RMSE, indicating more accurate predictions.\n",
        "- Visualization shows that our model effectively captures the trends in Airbnb’s stock prices."
      ]
    }
  ],
  "metadata": {
    "colab": {
      "provenance": []
    },
    "kernelspec": {
      "display_name": "Python 3 (ipykernel)",
      "language": "python",
      "name": "python3"
    },
    "language_info": {
      "codemirror_mode": {
        "name": "ipython",
        "version": 3
      },
      "file_extension": ".py",
      "mimetype": "text/x-python",
      "name": "python",
      "nbconvert_exporter": "python",
      "pygments_lexer": "ipython3",
      "version": "3.12.1"
    }
  },
  "nbformat": 4,
  "nbformat_minor": 0
}
